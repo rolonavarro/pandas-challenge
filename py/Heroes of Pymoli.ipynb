{
 "cells": [
  {
   "cell_type": "markdown",
   "metadata": {},
   "source": [
    "# Heroes of Pymoli"
   ]
  },
  {
   "cell_type": "code",
   "execution_count": 1,
   "metadata": {},
   "outputs": [],
   "source": [
    "# Dependencies and Setup\n",
    "import pandas as pd\n",
    "\n",
    "# File to Load (Remember to Change These)\n",
    "file_to_load = \"Resources/purchase_data.csv\"\n",
    "\n",
    "# Read Purchasing File and store into Pandas data frame\n",
    "purchase_data = pd.read_csv(file_to_load)"
   ]
  },
  {
   "cell_type": "code",
   "execution_count": 2,
   "metadata": {},
   "outputs": [
    {
     "data": {
      "text/plain": [
       "array(['Male', 'Other / Non-Disclosed', 'Female'], dtype=object)"
      ]
     },
     "execution_count": 2,
     "metadata": {},
     "output_type": "execute_result"
    }
   ],
   "source": [
    "purchase_data[\"Gender\"].unique()"
   ]
  },
  {
   "cell_type": "code",
   "execution_count": 3,
   "metadata": {},
   "outputs": [
    {
     "data": {
      "text/html": [
       "<div>\n",
       "<style scoped>\n",
       "    .dataframe tbody tr th:only-of-type {\n",
       "        vertical-align: middle;\n",
       "    }\n",
       "\n",
       "    .dataframe tbody tr th {\n",
       "        vertical-align: top;\n",
       "    }\n",
       "\n",
       "    .dataframe thead th {\n",
       "        text-align: right;\n",
       "    }\n",
       "</style>\n",
       "<table border=\"1\" class=\"dataframe\">\n",
       "  <thead>\n",
       "    <tr style=\"text-align: right;\">\n",
       "      <th></th>\n",
       "      <th>Total Players</th>\n",
       "    </tr>\n",
       "  </thead>\n",
       "  <tbody>\n",
       "    <tr>\n",
       "      <td>0</td>\n",
       "      <td>576</td>\n",
       "    </tr>\n",
       "  </tbody>\n",
       "</table>\n",
       "</div>"
      ],
      "text/plain": [
       "   Total Players\n",
       "0            576"
      ]
     },
     "execution_count": 3,
     "metadata": {},
     "output_type": "execute_result"
    }
   ],
   "source": [
    "# Player Count\n",
    "\n",
    "Tot_players = (len(purchase_data[\"SN\"].unique()))\n",
    "Tot_players_df = pd.DataFrame({\"Total Players\": [Tot_players]})\n",
    "Tot_players_df"
   ]
  },
  {
   "cell_type": "code",
   "execution_count": 4,
   "metadata": {},
   "outputs": [
    {
     "data": {
      "text/plain": [
       "576"
      ]
     },
     "execution_count": 4,
     "metadata": {},
     "output_type": "execute_result"
    }
   ],
   "source": [
    "Tot_players"
   ]
  },
  {
   "cell_type": "markdown",
   "metadata": {},
   "source": [
    "# Purchasing Analysis (Total)\n",
    "    # Number of Unique Items\n",
    "    # Average Purchase Price\n",
    "    # Total Number of Purchases\n",
    "    # Total Revenue"
   ]
  },
  {
   "cell_type": "code",
   "execution_count": 5,
   "metadata": {},
   "outputs": [],
   "source": [
    "Number_Items = (len(purchase_data[\"Item ID\"].unique()))\n",
    "\n",
    "Av_pricef = purchase_data[\"Price\"].mean()\n",
    "Av_price = (\"$\" + str(format(Av_pricef,'.2f')))\n",
    "\n",
    "Tot_purchase = len(purchase_data[\"Purchase ID\"])\n",
    "\n",
    "Tot_rev = (purchase_data[\"Price\"].sum())\n",
    "Tot_rev = (\"$\" + str(format(Tot_rev, ',.2f')))\n"
   ]
  },
  {
   "cell_type": "code",
   "execution_count": 6,
   "metadata": {},
   "outputs": [
    {
     "data": {
      "text/html": [
       "<div>\n",
       "<style scoped>\n",
       "    .dataframe tbody tr th:only-of-type {\n",
       "        vertical-align: middle;\n",
       "    }\n",
       "\n",
       "    .dataframe tbody tr th {\n",
       "        vertical-align: top;\n",
       "    }\n",
       "\n",
       "    .dataframe thead th {\n",
       "        text-align: right;\n",
       "    }\n",
       "</style>\n",
       "<table border=\"1\" class=\"dataframe\">\n",
       "  <thead>\n",
       "    <tr style=\"text-align: right;\">\n",
       "      <th></th>\n",
       "      <th>Number of Unique Items</th>\n",
       "      <th>Average Purchase Price</th>\n",
       "      <th>Total Number of Purchases</th>\n",
       "      <th>Total Revenue</th>\n",
       "    </tr>\n",
       "  </thead>\n",
       "  <tbody>\n",
       "    <tr>\n",
       "      <td>0</td>\n",
       "      <td>183</td>\n",
       "      <td>$3.05</td>\n",
       "      <td>780</td>\n",
       "      <td>$2,379.77</td>\n",
       "    </tr>\n",
       "  </tbody>\n",
       "</table>\n",
       "</div>"
      ],
      "text/plain": [
       "   Number of Unique Items Average Purchase Price  Total Number of Purchases  \\\n",
       "0                     183                  $3.05                        780   \n",
       "\n",
       "  Total Revenue  \n",
       "0     $2,379.77  "
      ]
     },
     "execution_count": 6,
     "metadata": {},
     "output_type": "execute_result"
    }
   ],
   "source": [
    "Purchasing_Analysis_df = pd.DataFrame({\"Number of Unique Items\": [Number_Items],\n",
    "                                      \"Average Purchase Price\": [Av_price],\n",
    "                                      \"Total Number of Purchases\": [Tot_purchase],\n",
    "                                      \"Total Revenue\": [Tot_rev]\n",
    "                                      })\n",
    "Purchasing_Analysis_df"
   ]
  },
  {
   "cell_type": "code",
   "execution_count": 7,
   "metadata": {
    "scrolled": true
   },
   "outputs": [
    {
     "data": {
      "text/html": [
       "<div>\n",
       "<style scoped>\n",
       "    .dataframe tbody tr th:only-of-type {\n",
       "        vertical-align: middle;\n",
       "    }\n",
       "\n",
       "    .dataframe tbody tr th {\n",
       "        vertical-align: top;\n",
       "    }\n",
       "\n",
       "    .dataframe thead th {\n",
       "        text-align: right;\n",
       "    }\n",
       "</style>\n",
       "<table border=\"1\" class=\"dataframe\">\n",
       "  <thead>\n",
       "    <tr style=\"text-align: right;\">\n",
       "      <th></th>\n",
       "      <th>Purchase ID</th>\n",
       "      <th>SN</th>\n",
       "      <th>Age</th>\n",
       "      <th>Gender</th>\n",
       "      <th>Item ID</th>\n",
       "      <th>Item Name</th>\n",
       "      <th>Price</th>\n",
       "    </tr>\n",
       "  </thead>\n",
       "  <tbody>\n",
       "    <tr>\n",
       "      <td>0</td>\n",
       "      <td>0</td>\n",
       "      <td>Lisim78</td>\n",
       "      <td>20</td>\n",
       "      <td>Male</td>\n",
       "      <td>108</td>\n",
       "      <td>Extraction, Quickblade Of Trembling Hands</td>\n",
       "      <td>3.53</td>\n",
       "    </tr>\n",
       "    <tr>\n",
       "      <td>1</td>\n",
       "      <td>1</td>\n",
       "      <td>Lisovynya38</td>\n",
       "      <td>40</td>\n",
       "      <td>Male</td>\n",
       "      <td>143</td>\n",
       "      <td>Frenzied Scimitar</td>\n",
       "      <td>1.56</td>\n",
       "    </tr>\n",
       "    <tr>\n",
       "      <td>2</td>\n",
       "      <td>2</td>\n",
       "      <td>Ithergue48</td>\n",
       "      <td>24</td>\n",
       "      <td>Male</td>\n",
       "      <td>92</td>\n",
       "      <td>Final Critic</td>\n",
       "      <td>4.88</td>\n",
       "    </tr>\n",
       "    <tr>\n",
       "      <td>3</td>\n",
       "      <td>3</td>\n",
       "      <td>Chamassasya86</td>\n",
       "      <td>24</td>\n",
       "      <td>Male</td>\n",
       "      <td>100</td>\n",
       "      <td>Blindscythe</td>\n",
       "      <td>3.27</td>\n",
       "    </tr>\n",
       "    <tr>\n",
       "      <td>4</td>\n",
       "      <td>4</td>\n",
       "      <td>Iskosia90</td>\n",
       "      <td>23</td>\n",
       "      <td>Male</td>\n",
       "      <td>131</td>\n",
       "      <td>Fury</td>\n",
       "      <td>1.44</td>\n",
       "    </tr>\n",
       "  </tbody>\n",
       "</table>\n",
       "</div>"
      ],
      "text/plain": [
       "   Purchase ID             SN  Age Gender  Item ID  \\\n",
       "0            0        Lisim78   20   Male      108   \n",
       "1            1    Lisovynya38   40   Male      143   \n",
       "2            2     Ithergue48   24   Male       92   \n",
       "3            3  Chamassasya86   24   Male      100   \n",
       "4            4      Iskosia90   23   Male      131   \n",
       "\n",
       "                                   Item Name  Price  \n",
       "0  Extraction, Quickblade Of Trembling Hands   3.53  \n",
       "1                          Frenzied Scimitar   1.56  \n",
       "2                               Final Critic   4.88  \n",
       "3                                Blindscythe   3.27  \n",
       "4                                       Fury   1.44  "
      ]
     },
     "execution_count": 7,
     "metadata": {},
     "output_type": "execute_result"
    }
   ],
   "source": [
    "duplicates = purchase_data.drop_duplicates(\"SN\")\n",
    "duplicates.head()"
   ]
  },
  {
   "cell_type": "code",
   "execution_count": 8,
   "metadata": {
    "scrolled": true
   },
   "outputs": [],
   "source": [
    "Duplicates_df = duplicates[\"Gender\"].value_counts()\n",
    "Duplicates_df = pd.DataFrame(Duplicates_df)\n",
    "Genders = Duplicates_df.values.flatten()\n"
   ]
  },
  {
   "cell_type": "markdown",
   "metadata": {},
   "source": [
    "# Gender Demographics\n",
    "    # Percentage and Count of Male Players\n",
    "    # Percentage and Count of Female Players\n",
    "    # Percentage and Count of Other / Non-Disclosed"
   ]
  },
  {
   "cell_type": "code",
   "execution_count": 10,
   "metadata": {},
   "outputs": [],
   "source": [
    "Male = (Duplicates_df.iloc[0,0]/Tot_players)\n",
    "Male = format(Male, '.2%')\n",
    "\n",
    "Female = (Duplicates_df.iloc[1,0]/Tot_players)\n",
    "Female = format(Female, '.2%')\n",
    "\n",
    "Other = (Duplicates_df.iloc[2,0]/Tot_players)\n",
    "Other = format(Other, '.2%')\n",
    "\n",
    "Gender_percent = pd.DataFrame({\"Percentages of Players\":[Male, Female, Other],})\n",
    "Percent = Gender_percent.values.flatten()"
   ]
  },
  {
   "cell_type": "code",
   "execution_count": 11,
   "metadata": {},
   "outputs": [
    {
     "data": {
      "text/html": [
       "<div>\n",
       "<style scoped>\n",
       "    .dataframe tbody tr th:only-of-type {\n",
       "        vertical-align: middle;\n",
       "    }\n",
       "\n",
       "    .dataframe tbody tr th {\n",
       "        vertical-align: top;\n",
       "    }\n",
       "\n",
       "    .dataframe thead th {\n",
       "        text-align: right;\n",
       "    }\n",
       "</style>\n",
       "<table border=\"1\" class=\"dataframe\">\n",
       "  <thead>\n",
       "    <tr style=\"text-align: right;\">\n",
       "      <th></th>\n",
       "      <th>Total Count</th>\n",
       "      <th>Percent of Players</th>\n",
       "    </tr>\n",
       "  </thead>\n",
       "  <tbody>\n",
       "    <tr>\n",
       "      <td>Male</td>\n",
       "      <td>484</td>\n",
       "      <td>84.03%</td>\n",
       "    </tr>\n",
       "    <tr>\n",
       "      <td>Female</td>\n",
       "      <td>81</td>\n",
       "      <td>14.06%</td>\n",
       "    </tr>\n",
       "    <tr>\n",
       "      <td>Other</td>\n",
       "      <td>11</td>\n",
       "      <td>1.91%</td>\n",
       "    </tr>\n",
       "  </tbody>\n",
       "</table>\n",
       "</div>"
      ],
      "text/plain": [
       "        Total Count Percent of Players\n",
       "Male            484             84.03%\n",
       "Female           81             14.06%\n",
       "Other            11              1.91%"
      ]
     },
     "execution_count": 11,
     "metadata": {},
     "output_type": "execute_result"
    }
   ],
   "source": [
    "dic = ({\n",
    "    \"Total Count\": Genders,\n",
    "    \"Percent of Players\": Percent\n",
    "})\n",
    "\n",
    "dic\n",
    "\n",
    "dic_df = pd.DataFrame(dic, index = [\"Male\",\"Female\",\"Other\"])\n",
    "dic_df"
   ]
  },
  {
   "cell_type": "markdown",
   "metadata": {},
   "source": [
    "# Purchasing Analysis (Gender)\n",
    "    # Run basic calculations to obtain purchase count, avg. purchase price, avg. purchase total per person etc. by gender\n",
    "    # Create a summary data frame to hold the results\n",
    "    # Optional: give the displayed data cleaner formatting\n",
    "    # Display the summary data frame"
   ]
  },
  {
   "cell_type": "code",
   "execution_count": 13,
   "metadata": {},
   "outputs": [
    {
     "data": {
      "text/html": [
       "<style  type=\"text/css\" >\n",
       "</style><table id=\"T_c0462f98_5d15_11ea_a99e_faffc23f6a6c\" ><thead>    <tr>        <th class=\"blank level0\" ></th>        <th class=\"col_heading level0 col0\" >Purchase Count</th>        <th class=\"col_heading level0 col1\" >Average Purchase Price</th>        <th class=\"col_heading level0 col2\" >Total Purchase Value</th>        <th class=\"col_heading level0 col3\" >Avg total Purchase per person</th>    </tr></thead><tbody>\n",
       "                <tr>\n",
       "                        <th id=\"T_c0462f98_5d15_11ea_a99e_faffc23f6a6clevel0_row0\" class=\"row_heading level0 row0\" >Female</th>\n",
       "                        <td id=\"T_c0462f98_5d15_11ea_a99e_faffc23f6a6crow0_col0\" class=\"data row0 col0\" >113</td>\n",
       "                        <td id=\"T_c0462f98_5d15_11ea_a99e_faffc23f6a6crow0_col1\" class=\"data row0 col1\" >$3.20</td>\n",
       "                        <td id=\"T_c0462f98_5d15_11ea_a99e_faffc23f6a6crow0_col2\" class=\"data row0 col2\" >$361.94</td>\n",
       "                        <td id=\"T_c0462f98_5d15_11ea_a99e_faffc23f6a6crow0_col3\" class=\"data row0 col3\" >$3.20</td>\n",
       "            </tr>\n",
       "            <tr>\n",
       "                        <th id=\"T_c0462f98_5d15_11ea_a99e_faffc23f6a6clevel0_row1\" class=\"row_heading level0 row1\" >Male</th>\n",
       "                        <td id=\"T_c0462f98_5d15_11ea_a99e_faffc23f6a6crow1_col0\" class=\"data row1 col0\" >652</td>\n",
       "                        <td id=\"T_c0462f98_5d15_11ea_a99e_faffc23f6a6crow1_col1\" class=\"data row1 col1\" >$3.02</td>\n",
       "                        <td id=\"T_c0462f98_5d15_11ea_a99e_faffc23f6a6crow1_col2\" class=\"data row1 col2\" >$1967.64</td>\n",
       "                        <td id=\"T_c0462f98_5d15_11ea_a99e_faffc23f6a6crow1_col3\" class=\"data row1 col3\" >$3.02</td>\n",
       "            </tr>\n",
       "            <tr>\n",
       "                        <th id=\"T_c0462f98_5d15_11ea_a99e_faffc23f6a6clevel0_row2\" class=\"row_heading level0 row2\" >Other / Non-Disclosed</th>\n",
       "                        <td id=\"T_c0462f98_5d15_11ea_a99e_faffc23f6a6crow2_col0\" class=\"data row2 col0\" >15</td>\n",
       "                        <td id=\"T_c0462f98_5d15_11ea_a99e_faffc23f6a6crow2_col1\" class=\"data row2 col1\" >$3.35</td>\n",
       "                        <td id=\"T_c0462f98_5d15_11ea_a99e_faffc23f6a6crow2_col2\" class=\"data row2 col2\" >$50.19</td>\n",
       "                        <td id=\"T_c0462f98_5d15_11ea_a99e_faffc23f6a6crow2_col3\" class=\"data row2 col3\" >$3.35</td>\n",
       "            </tr>\n",
       "    </tbody></table>"
      ],
      "text/plain": [
       "<pandas.io.formats.style.Styler at 0x117745990>"
      ]
     },
     "execution_count": 13,
     "metadata": {},
     "output_type": "execute_result"
    }
   ],
   "source": [
    "#Grouping the data by Gender\n",
    "Gen_stats = purchase_data.groupby(\"Gender\")\n",
    "\n",
    "Gen_Tot = purchase_data[\"Gender\"].value_counts()\n",
    "Gen_avg = Gen_stats[\"Price\"].mean()\n",
    "Gen_sum = Gen_stats[\"Price\"].sum()\n",
    "Gen_per = Gen_sum / Gen_Tot\n",
    "\n",
    "# Purchasing Analysis DataFrame\n",
    "Gen_df = pd.DataFrame({\"Purchase Count\": Gen_Tot,\n",
    "                     \"Average Purchase Price\": Gen_avg,\n",
    "                     \"Total Purchase Value\": Gen_sum,\n",
    "                     \"Avg total Purchase per person\": Gen_per\n",
    "                      })\n",
    "Gen_df.style.format({\"Average Purchase Price\":\"${:.2f}\",\n",
    "                    \"Total Purchase Value\":\"${:.2f}\",\n",
    "                    \"Avg total Purchase per person\":\"${:.2f}\"})\n"
   ]
  },
  {
   "cell_type": "markdown",
   "metadata": {},
   "source": [
    "# Age Demographics\n",
    "    # The below each broken into bins of 4 years (i.e. <10, 10-14, 15-19, etc.)\n",
    "    # Purchase Count\n",
    "    # Average Purchase Price\n",
    "    # Total Purchase Value\n",
    "    # Average Purchase Total per Person by Age Group"
   ]
  },
  {
   "cell_type": "code",
   "execution_count": 15,
   "metadata": {
    "scrolled": true
   },
   "outputs": [
    {
     "data": {
      "text/html": [
       "<style  type=\"text/css\" >\n",
       "</style><table id=\"T_c049defe_5d15_11ea_a99e_faffc23f6a6c\" ><thead>    <tr>        <th class=\"blank level0\" ></th>        <th class=\"col_heading level0 col0\" >Total Count</th>        <th class=\"col_heading level0 col1\" >Percentage of Players</th>        <th class=\"col_heading level0 col2\" >Total Purchase Value</th>        <th class=\"col_heading level0 col3\" >Average Purchase Price</th>        <th class=\"col_heading level0 col4\" >Average Purchase Total per Person by Age Group</th>    </tr>    <tr>        <th class=\"index_name level0\" >Age Group</th>        <th class=\"blank\" ></th>        <th class=\"blank\" ></th>        <th class=\"blank\" ></th>        <th class=\"blank\" ></th>        <th class=\"blank\" ></th>    </tr></thead><tbody>\n",
       "                <tr>\n",
       "                        <th id=\"T_c049defe_5d15_11ea_a99e_faffc23f6a6clevel0_row0\" class=\"row_heading level0 row0\" ><10</th>\n",
       "                        <td id=\"T_c049defe_5d15_11ea_a99e_faffc23f6a6crow0_col0\" class=\"data row0 col0\" >23</td>\n",
       "                        <td id=\"T_c049defe_5d15_11ea_a99e_faffc23f6a6crow0_col1\" class=\"data row0 col1\" >3.99%</td>\n",
       "                        <td id=\"T_c049defe_5d15_11ea_a99e_faffc23f6a6crow0_col2\" class=\"data row0 col2\" >$77.13</td>\n",
       "                        <td id=\"T_c049defe_5d15_11ea_a99e_faffc23f6a6crow0_col3\" class=\"data row0 col3\" >$3.35</td>\n",
       "                        <td id=\"T_c049defe_5d15_11ea_a99e_faffc23f6a6crow0_col4\" class=\"data row0 col4\" >$4.54</td>\n",
       "            </tr>\n",
       "            <tr>\n",
       "                        <th id=\"T_c049defe_5d15_11ea_a99e_faffc23f6a6clevel0_row1\" class=\"row_heading level0 row1\" >10-14</th>\n",
       "                        <td id=\"T_c049defe_5d15_11ea_a99e_faffc23f6a6crow1_col0\" class=\"data row1 col0\" >28</td>\n",
       "                        <td id=\"T_c049defe_5d15_11ea_a99e_faffc23f6a6crow1_col1\" class=\"data row1 col1\" >4.86%</td>\n",
       "                        <td id=\"T_c049defe_5d15_11ea_a99e_faffc23f6a6crow1_col2\" class=\"data row1 col2\" >$82.78</td>\n",
       "                        <td id=\"T_c049defe_5d15_11ea_a99e_faffc23f6a6crow1_col3\" class=\"data row1 col3\" >$2.96</td>\n",
       "                        <td id=\"T_c049defe_5d15_11ea_a99e_faffc23f6a6crow1_col4\" class=\"data row1 col4\" >$3.76</td>\n",
       "            </tr>\n",
       "            <tr>\n",
       "                        <th id=\"T_c049defe_5d15_11ea_a99e_faffc23f6a6clevel0_row2\" class=\"row_heading level0 row2\" >15-19</th>\n",
       "                        <td id=\"T_c049defe_5d15_11ea_a99e_faffc23f6a6crow2_col0\" class=\"data row2 col0\" >136</td>\n",
       "                        <td id=\"T_c049defe_5d15_11ea_a99e_faffc23f6a6crow2_col1\" class=\"data row2 col1\" >23.61%</td>\n",
       "                        <td id=\"T_c049defe_5d15_11ea_a99e_faffc23f6a6crow2_col2\" class=\"data row2 col2\" >$412.89</td>\n",
       "                        <td id=\"T_c049defe_5d15_11ea_a99e_faffc23f6a6crow2_col3\" class=\"data row2 col3\" >$3.04</td>\n",
       "                        <td id=\"T_c049defe_5d15_11ea_a99e_faffc23f6a6crow2_col4\" class=\"data row2 col4\" >$3.86</td>\n",
       "            </tr>\n",
       "            <tr>\n",
       "                        <th id=\"T_c049defe_5d15_11ea_a99e_faffc23f6a6clevel0_row3\" class=\"row_heading level0 row3\" >20-24</th>\n",
       "                        <td id=\"T_c049defe_5d15_11ea_a99e_faffc23f6a6crow3_col0\" class=\"data row3 col0\" >365</td>\n",
       "                        <td id=\"T_c049defe_5d15_11ea_a99e_faffc23f6a6crow3_col1\" class=\"data row3 col1\" >63.37%</td>\n",
       "                        <td id=\"T_c049defe_5d15_11ea_a99e_faffc23f6a6crow3_col2\" class=\"data row3 col2\" >$1114.06</td>\n",
       "                        <td id=\"T_c049defe_5d15_11ea_a99e_faffc23f6a6crow3_col3\" class=\"data row3 col3\" >$3.05</td>\n",
       "                        <td id=\"T_c049defe_5d15_11ea_a99e_faffc23f6a6crow3_col4\" class=\"data row3 col4\" >$4.32</td>\n",
       "            </tr>\n",
       "            <tr>\n",
       "                        <th id=\"T_c049defe_5d15_11ea_a99e_faffc23f6a6clevel0_row4\" class=\"row_heading level0 row4\" >25-29</th>\n",
       "                        <td id=\"T_c049defe_5d15_11ea_a99e_faffc23f6a6crow4_col0\" class=\"data row4 col0\" >101</td>\n",
       "                        <td id=\"T_c049defe_5d15_11ea_a99e_faffc23f6a6crow4_col1\" class=\"data row4 col1\" >17.53%</td>\n",
       "                        <td id=\"T_c049defe_5d15_11ea_a99e_faffc23f6a6crow4_col2\" class=\"data row4 col2\" >$293.00</td>\n",
       "                        <td id=\"T_c049defe_5d15_11ea_a99e_faffc23f6a6crow4_col3\" class=\"data row4 col3\" >$2.90</td>\n",
       "                        <td id=\"T_c049defe_5d15_11ea_a99e_faffc23f6a6crow4_col4\" class=\"data row4 col4\" >$3.81</td>\n",
       "            </tr>\n",
       "            <tr>\n",
       "                        <th id=\"T_c049defe_5d15_11ea_a99e_faffc23f6a6clevel0_row5\" class=\"row_heading level0 row5\" >30-34</th>\n",
       "                        <td id=\"T_c049defe_5d15_11ea_a99e_faffc23f6a6crow5_col0\" class=\"data row5 col0\" >73</td>\n",
       "                        <td id=\"T_c049defe_5d15_11ea_a99e_faffc23f6a6crow5_col1\" class=\"data row5 col1\" >12.67%</td>\n",
       "                        <td id=\"T_c049defe_5d15_11ea_a99e_faffc23f6a6crow5_col2\" class=\"data row5 col2\" >$214.00</td>\n",
       "                        <td id=\"T_c049defe_5d15_11ea_a99e_faffc23f6a6crow5_col3\" class=\"data row5 col3\" >$2.93</td>\n",
       "                        <td id=\"T_c049defe_5d15_11ea_a99e_faffc23f6a6crow5_col4\" class=\"data row5 col4\" >$4.12</td>\n",
       "            </tr>\n",
       "            <tr>\n",
       "                        <th id=\"T_c049defe_5d15_11ea_a99e_faffc23f6a6clevel0_row6\" class=\"row_heading level0 row6\" >35-39</th>\n",
       "                        <td id=\"T_c049defe_5d15_11ea_a99e_faffc23f6a6crow6_col0\" class=\"data row6 col0\" >41</td>\n",
       "                        <td id=\"T_c049defe_5d15_11ea_a99e_faffc23f6a6crow6_col1\" class=\"data row6 col1\" >7.12%</td>\n",
       "                        <td id=\"T_c049defe_5d15_11ea_a99e_faffc23f6a6crow6_col2\" class=\"data row6 col2\" >$147.67</td>\n",
       "                        <td id=\"T_c049defe_5d15_11ea_a99e_faffc23f6a6crow6_col3\" class=\"data row6 col3\" >$3.60</td>\n",
       "                        <td id=\"T_c049defe_5d15_11ea_a99e_faffc23f6a6crow6_col4\" class=\"data row6 col4\" >$4.76</td>\n",
       "            </tr>\n",
       "            <tr>\n",
       "                        <th id=\"T_c049defe_5d15_11ea_a99e_faffc23f6a6clevel0_row7\" class=\"row_heading level0 row7\" >40+</th>\n",
       "                        <td id=\"T_c049defe_5d15_11ea_a99e_faffc23f6a6crow7_col0\" class=\"data row7 col0\" >13</td>\n",
       "                        <td id=\"T_c049defe_5d15_11ea_a99e_faffc23f6a6crow7_col1\" class=\"data row7 col1\" >2.26%</td>\n",
       "                        <td id=\"T_c049defe_5d15_11ea_a99e_faffc23f6a6crow7_col2\" class=\"data row7 col2\" >$38.24</td>\n",
       "                        <td id=\"T_c049defe_5d15_11ea_a99e_faffc23f6a6crow7_col3\" class=\"data row7 col3\" >$2.94</td>\n",
       "                        <td id=\"T_c049defe_5d15_11ea_a99e_faffc23f6a6crow7_col4\" class=\"data row7 col4\" >$3.19</td>\n",
       "            </tr>\n",
       "    </tbody></table>"
      ],
      "text/plain": [
       "<pandas.io.formats.style.Styler at 0x117656a10>"
      ]
     },
     "execution_count": 15,
     "metadata": {},
     "output_type": "execute_result"
    }
   ],
   "source": [
    "# Setting up bins\n",
    "bins = [0, 9.90, 14.99, 19.90, 24.90, 29.90, 34.90, 39.90, 9999  ]\n",
    "bin_name = [\"<10\", \"10-14\", \"15-19\", \"20-24\", \"25-29\", \"30-34\", \"35-39\", \"40+\"]\n",
    "\n",
    "\n",
    "purchase_data[\"Age Group\"] = pd.cut(purchase_data[\"Age\"], bins, labels = bin_name)\n",
    "\n",
    "\n",
    "Age_count = purchase_data.groupby(\"Age Group\")\n",
    "\n",
    "SN_count = Age_count[\"SN\"].nunique()\n",
    "Tot_count = Age_count[\"Purchase ID\"].nunique()\n",
    "Age_percent = (Tot_count/Tot_players) * 100\n",
    "Price_age = Age_count[\"Price\"].sum()\n",
    "Avg_ageprice = (Price_age/Tot_count)\n",
    "Avg_Total_Person = (Price_age/SN_count)\n",
    "\n",
    "\n",
    "\n",
    "Age_df = pd.DataFrame({\"Total Count\": Tot_count,\n",
    "                       \"Percentage of Players\": Age_percent,\n",
    "                      \"Total Purchase Value\": Price_age,\n",
    "                      \"Average Purchase Price\": Avg_ageprice,\n",
    "                      \"Average Purchase Total per Person by Age Group\": Avg_Total_Person})\n",
    "\n",
    "Age_df.style.format({\"Percentage of Players\": \"{:.2f}%\",\n",
    "                    \"Total Purchase Value\":\"${:.2f}\",\n",
    "                    \"Average Purchase Price\": \"${:.2f}\",\n",
    "                    \"Average Purchase Total per Person by Age Group\":\"${:.2f}\"})"
   ]
  },
  {
   "cell_type": "markdown",
   "metadata": {},
   "source": [
    "# Top Spenders\n",
    "    # Run basic calculations to obtain the results in the table below\n",
    "    # Create a summary data frame to hold the results\n",
    "    # Sort the total purchase value column in descending order\n",
    "    # Optional: give the displayed data cleaner formatting\n",
    "    # Display a preview of the summary data frame"
   ]
  },
  {
   "cell_type": "code",
   "execution_count": 17,
   "metadata": {},
   "outputs": [
    {
     "data": {
      "text/html": [
       "<style  type=\"text/css\" >\n",
       "</style><table id=\"T_c04d6132_5d15_11ea_a99e_faffc23f6a6c\" ><thead>    <tr>        <th class=\"blank level0\" ></th>        <th class=\"col_heading level0 col0\" >Purchase Count</th>        <th class=\"col_heading level0 col1\" >Average Purchase Price</th>        <th class=\"col_heading level0 col2\" >Total Purchase Price</th>    </tr>    <tr>        <th class=\"index_name level0\" >SN</th>        <th class=\"blank\" ></th>        <th class=\"blank\" ></th>        <th class=\"blank\" ></th>    </tr></thead><tbody>\n",
       "                <tr>\n",
       "                        <th id=\"T_c04d6132_5d15_11ea_a99e_faffc23f6a6clevel0_row0\" class=\"row_heading level0 row0\" >Lisosia93</th>\n",
       "                        <td id=\"T_c04d6132_5d15_11ea_a99e_faffc23f6a6crow0_col0\" class=\"data row0 col0\" >5</td>\n",
       "                        <td id=\"T_c04d6132_5d15_11ea_a99e_faffc23f6a6crow0_col1\" class=\"data row0 col1\" >$3.79</td>\n",
       "                        <td id=\"T_c04d6132_5d15_11ea_a99e_faffc23f6a6crow0_col2\" class=\"data row0 col2\" >$18.96</td>\n",
       "            </tr>\n",
       "            <tr>\n",
       "                        <th id=\"T_c04d6132_5d15_11ea_a99e_faffc23f6a6clevel0_row1\" class=\"row_heading level0 row1\" >Idastidru52</th>\n",
       "                        <td id=\"T_c04d6132_5d15_11ea_a99e_faffc23f6a6crow1_col0\" class=\"data row1 col0\" >4</td>\n",
       "                        <td id=\"T_c04d6132_5d15_11ea_a99e_faffc23f6a6crow1_col1\" class=\"data row1 col1\" >$3.86</td>\n",
       "                        <td id=\"T_c04d6132_5d15_11ea_a99e_faffc23f6a6crow1_col2\" class=\"data row1 col2\" >$15.45</td>\n",
       "            </tr>\n",
       "            <tr>\n",
       "                        <th id=\"T_c04d6132_5d15_11ea_a99e_faffc23f6a6clevel0_row2\" class=\"row_heading level0 row2\" >Chamjask73</th>\n",
       "                        <td id=\"T_c04d6132_5d15_11ea_a99e_faffc23f6a6crow2_col0\" class=\"data row2 col0\" >3</td>\n",
       "                        <td id=\"T_c04d6132_5d15_11ea_a99e_faffc23f6a6crow2_col1\" class=\"data row2 col1\" >$4.61</td>\n",
       "                        <td id=\"T_c04d6132_5d15_11ea_a99e_faffc23f6a6crow2_col2\" class=\"data row2 col2\" >$13.83</td>\n",
       "            </tr>\n",
       "            <tr>\n",
       "                        <th id=\"T_c04d6132_5d15_11ea_a99e_faffc23f6a6clevel0_row3\" class=\"row_heading level0 row3\" >Iral74</th>\n",
       "                        <td id=\"T_c04d6132_5d15_11ea_a99e_faffc23f6a6crow3_col0\" class=\"data row3 col0\" >4</td>\n",
       "                        <td id=\"T_c04d6132_5d15_11ea_a99e_faffc23f6a6crow3_col1\" class=\"data row3 col1\" >$3.40</td>\n",
       "                        <td id=\"T_c04d6132_5d15_11ea_a99e_faffc23f6a6crow3_col2\" class=\"data row3 col2\" >$13.62</td>\n",
       "            </tr>\n",
       "            <tr>\n",
       "                        <th id=\"T_c04d6132_5d15_11ea_a99e_faffc23f6a6clevel0_row4\" class=\"row_heading level0 row4\" >Iskadarya95</th>\n",
       "                        <td id=\"T_c04d6132_5d15_11ea_a99e_faffc23f6a6crow4_col0\" class=\"data row4 col0\" >3</td>\n",
       "                        <td id=\"T_c04d6132_5d15_11ea_a99e_faffc23f6a6crow4_col1\" class=\"data row4 col1\" >$4.37</td>\n",
       "                        <td id=\"T_c04d6132_5d15_11ea_a99e_faffc23f6a6crow4_col2\" class=\"data row4 col2\" >$13.10</td>\n",
       "            </tr>\n",
       "    </tbody></table>"
      ],
      "text/plain": [
       "<pandas.io.formats.style.Styler at 0x1181c1490>"
      ]
     },
     "execution_count": 17,
     "metadata": {},
     "output_type": "execute_result"
    }
   ],
   "source": [
    "# Group data by SN\n",
    "spenders = purchase_data.groupby(\"SN\")\n",
    "\n",
    "pur_count = spenders[\"Purchase ID\"].count()\n",
    "pur_avg = spenders[\"Price\"].mean()\n",
    "pur_Tot = spenders[\"Price\"].sum()\n",
    "\n",
    "Purchase_df = pd.DataFrame({\"Purchase Count\": pur_count,\n",
    "                           \"Average Purchase Price\": pur_avg,\n",
    "                           \"Total Purchase Price\": pur_Tot})\n",
    "\n",
    "\n",
    "high_spenders = Purchase_df.sort_values([\"Total Purchase Price\"], ascending=False).head(5)\n",
    "high_spenders_top = high_spenders.style.format({\"Average Purchase Price\":\"${:.2f}\",\n",
    "                           \"Total Purchase Price\":\"${:.2f}\"\n",
    "                           })\n",
    "high_spenders_top"
   ]
  },
  {
   "cell_type": "markdown",
   "metadata": {},
   "source": [
    "# Most Popular Items\n",
    "    # Identify the 5 most popular items by purchase count, then list (in a table):\n",
    "    # Item ID\n",
    "    # Item Name\n",
    "    # Purchase Count\n",
    "    # Item Price\n",
    "    # Total Purchase Value"
   ]
  },
  {
   "cell_type": "code",
   "execution_count": 19,
   "metadata": {},
   "outputs": [
    {
     "data": {
      "text/html": [
       "<style  type=\"text/css\" >\n",
       "</style><table id=\"T_c050f108_5d15_11ea_a99e_faffc23f6a6c\" ><thead>    <tr>        <th class=\"blank\" ></th>        <th class=\"blank level0\" ></th>        <th class=\"col_heading level0 col0\" >Purchase Count</th>        <th class=\"col_heading level0 col1\" >Item Price</th>        <th class=\"col_heading level0 col2\" >Total Purchase Value</th>    </tr>    <tr>        <th class=\"index_name level0\" >Item ID</th>        <th class=\"index_name level1\" >Item Name</th>        <th class=\"blank\" ></th>        <th class=\"blank\" ></th>        <th class=\"blank\" ></th>    </tr></thead><tbody>\n",
       "                <tr>\n",
       "                        <th id=\"T_c050f108_5d15_11ea_a99e_faffc23f6a6clevel0_row0\" class=\"row_heading level0 row0\" >178</th>\n",
       "                        <th id=\"T_c050f108_5d15_11ea_a99e_faffc23f6a6clevel1_row0\" class=\"row_heading level1 row0\" >Oathbreaker, Last Hope of the Breaking Storm</th>\n",
       "                        <td id=\"T_c050f108_5d15_11ea_a99e_faffc23f6a6crow0_col0\" class=\"data row0 col0\" >12</td>\n",
       "                        <td id=\"T_c050f108_5d15_11ea_a99e_faffc23f6a6crow0_col1\" class=\"data row0 col1\" >$4.23</td>\n",
       "                        <td id=\"T_c050f108_5d15_11ea_a99e_faffc23f6a6crow0_col2\" class=\"data row0 col2\" >$50.76</td>\n",
       "            </tr>\n",
       "            <tr>\n",
       "                        <th id=\"T_c050f108_5d15_11ea_a99e_faffc23f6a6clevel0_row1\" class=\"row_heading level0 row1\" >145</th>\n",
       "                        <th id=\"T_c050f108_5d15_11ea_a99e_faffc23f6a6clevel1_row1\" class=\"row_heading level1 row1\" >Fiery Glass Crusader</th>\n",
       "                        <td id=\"T_c050f108_5d15_11ea_a99e_faffc23f6a6crow1_col0\" class=\"data row1 col0\" >9</td>\n",
       "                        <td id=\"T_c050f108_5d15_11ea_a99e_faffc23f6a6crow1_col1\" class=\"data row1 col1\" >$4.58</td>\n",
       "                        <td id=\"T_c050f108_5d15_11ea_a99e_faffc23f6a6crow1_col2\" class=\"data row1 col2\" >$41.22</td>\n",
       "            </tr>\n",
       "            <tr>\n",
       "                        <th id=\"T_c050f108_5d15_11ea_a99e_faffc23f6a6clevel0_row2\" class=\"row_heading level0 row2\" >108</th>\n",
       "                        <th id=\"T_c050f108_5d15_11ea_a99e_faffc23f6a6clevel1_row2\" class=\"row_heading level1 row2\" >Extraction, Quickblade Of Trembling Hands</th>\n",
       "                        <td id=\"T_c050f108_5d15_11ea_a99e_faffc23f6a6crow2_col0\" class=\"data row2 col0\" >9</td>\n",
       "                        <td id=\"T_c050f108_5d15_11ea_a99e_faffc23f6a6crow2_col1\" class=\"data row2 col1\" >$3.53</td>\n",
       "                        <td id=\"T_c050f108_5d15_11ea_a99e_faffc23f6a6crow2_col2\" class=\"data row2 col2\" >$31.77</td>\n",
       "            </tr>\n",
       "            <tr>\n",
       "                        <th id=\"T_c050f108_5d15_11ea_a99e_faffc23f6a6clevel0_row3\" class=\"row_heading level0 row3\" >82</th>\n",
       "                        <th id=\"T_c050f108_5d15_11ea_a99e_faffc23f6a6clevel1_row3\" class=\"row_heading level1 row3\" >Nirvana</th>\n",
       "                        <td id=\"T_c050f108_5d15_11ea_a99e_faffc23f6a6crow3_col0\" class=\"data row3 col0\" >9</td>\n",
       "                        <td id=\"T_c050f108_5d15_11ea_a99e_faffc23f6a6crow3_col1\" class=\"data row3 col1\" >$4.90</td>\n",
       "                        <td id=\"T_c050f108_5d15_11ea_a99e_faffc23f6a6crow3_col2\" class=\"data row3 col2\" >$44.10</td>\n",
       "            </tr>\n",
       "            <tr>\n",
       "                        <th id=\"T_c050f108_5d15_11ea_a99e_faffc23f6a6clevel0_row4\" class=\"row_heading level0 row4\" >19</th>\n",
       "                        <th id=\"T_c050f108_5d15_11ea_a99e_faffc23f6a6clevel1_row4\" class=\"row_heading level1 row4\" >Pursuit, Cudgel of Necromancy</th>\n",
       "                        <td id=\"T_c050f108_5d15_11ea_a99e_faffc23f6a6crow4_col0\" class=\"data row4 col0\" >8</td>\n",
       "                        <td id=\"T_c050f108_5d15_11ea_a99e_faffc23f6a6crow4_col1\" class=\"data row4 col1\" >$1.02</td>\n",
       "                        <td id=\"T_c050f108_5d15_11ea_a99e_faffc23f6a6crow4_col2\" class=\"data row4 col2\" >$8.16</td>\n",
       "            </tr>\n",
       "    </tbody></table>"
      ],
      "text/plain": [
       "<pandas.io.formats.style.Styler at 0x1178d7610>"
      ]
     },
     "execution_count": 19,
     "metadata": {},
     "output_type": "execute_result"
    }
   ],
   "source": [
    "Popular = purchase_data[[\"Item ID\",\"Item Name\",\"Price\"]]\n",
    "\n",
    "Popular_Item = Popular.groupby([\"Item ID\",\"Item Name\"])\n",
    "\n",
    "Best_Item = Popular_Item[\"Price\"].count()\n",
    "Purch_count = Popular_Item[\"Price\"].sum()\n",
    "Item_Price = Purch_count/Best_Item\n",
    "\n",
    "Popular_Item_df = pd.DataFrame({\"Purchase Count\": Best_Item,\n",
    "                              \"Item Price\": Item_Price,\n",
    "                              \"Total Purchase Value\": Purch_count})\n",
    "\n",
    "Popular_top = Popular_Item_df.sort_values([\"Purchase Count\"], ascending=False).head(5)\n",
    "\n",
    "Popular_top = Popular_top.style.format({\"Item Price\": \"${:.2f}\",\n",
    "                              \"Total Purchase Value\": \"${:.2f}\"})\n",
    "\n",
    "Popular_top"
   ]
  },
  {
   "cell_type": "markdown",
   "metadata": {},
   "source": [
    "# Most Profitable Items\n",
    "    # Identify the 5 most profitable items by total purchase value, then list (in a table):\n",
    "    # Item ID\n",
    "    # Item Name\n",
    "    # Purchase Count\n",
    "    # Item Price\n",
    "    # Total Purchase Value"
   ]
  },
  {
   "cell_type": "code",
   "execution_count": 21,
   "metadata": {},
   "outputs": [
    {
     "data": {
      "text/html": [
       "<style  type=\"text/css\" >\n",
       "</style><table id=\"T_c05393a4_5d15_11ea_a99e_faffc23f6a6c\" ><thead>    <tr>        <th class=\"blank\" ></th>        <th class=\"blank level0\" ></th>        <th class=\"col_heading level0 col0\" >Purchase Count</th>        <th class=\"col_heading level0 col1\" >Item Price</th>        <th class=\"col_heading level0 col2\" >Total Purchase Value</th>    </tr>    <tr>        <th class=\"index_name level0\" >Item ID</th>        <th class=\"index_name level1\" >Item Name</th>        <th class=\"blank\" ></th>        <th class=\"blank\" ></th>        <th class=\"blank\" ></th>    </tr></thead><tbody>\n",
       "                <tr>\n",
       "                        <th id=\"T_c05393a4_5d15_11ea_a99e_faffc23f6a6clevel0_row0\" class=\"row_heading level0 row0\" >178</th>\n",
       "                        <th id=\"T_c05393a4_5d15_11ea_a99e_faffc23f6a6clevel1_row0\" class=\"row_heading level1 row0\" >Oathbreaker, Last Hope of the Breaking Storm</th>\n",
       "                        <td id=\"T_c05393a4_5d15_11ea_a99e_faffc23f6a6crow0_col0\" class=\"data row0 col0\" >12</td>\n",
       "                        <td id=\"T_c05393a4_5d15_11ea_a99e_faffc23f6a6crow0_col1\" class=\"data row0 col1\" >$4.23</td>\n",
       "                        <td id=\"T_c05393a4_5d15_11ea_a99e_faffc23f6a6crow0_col2\" class=\"data row0 col2\" >$50.76</td>\n",
       "            </tr>\n",
       "            <tr>\n",
       "                        <th id=\"T_c05393a4_5d15_11ea_a99e_faffc23f6a6clevel0_row1\" class=\"row_heading level0 row1\" >82</th>\n",
       "                        <th id=\"T_c05393a4_5d15_11ea_a99e_faffc23f6a6clevel1_row1\" class=\"row_heading level1 row1\" >Nirvana</th>\n",
       "                        <td id=\"T_c05393a4_5d15_11ea_a99e_faffc23f6a6crow1_col0\" class=\"data row1 col0\" >9</td>\n",
       "                        <td id=\"T_c05393a4_5d15_11ea_a99e_faffc23f6a6crow1_col1\" class=\"data row1 col1\" >$4.90</td>\n",
       "                        <td id=\"T_c05393a4_5d15_11ea_a99e_faffc23f6a6crow1_col2\" class=\"data row1 col2\" >$44.10</td>\n",
       "            </tr>\n",
       "            <tr>\n",
       "                        <th id=\"T_c05393a4_5d15_11ea_a99e_faffc23f6a6clevel0_row2\" class=\"row_heading level0 row2\" >145</th>\n",
       "                        <th id=\"T_c05393a4_5d15_11ea_a99e_faffc23f6a6clevel1_row2\" class=\"row_heading level1 row2\" >Fiery Glass Crusader</th>\n",
       "                        <td id=\"T_c05393a4_5d15_11ea_a99e_faffc23f6a6crow2_col0\" class=\"data row2 col0\" >9</td>\n",
       "                        <td id=\"T_c05393a4_5d15_11ea_a99e_faffc23f6a6crow2_col1\" class=\"data row2 col1\" >$4.58</td>\n",
       "                        <td id=\"T_c05393a4_5d15_11ea_a99e_faffc23f6a6crow2_col2\" class=\"data row2 col2\" >$41.22</td>\n",
       "            </tr>\n",
       "            <tr>\n",
       "                        <th id=\"T_c05393a4_5d15_11ea_a99e_faffc23f6a6clevel0_row3\" class=\"row_heading level0 row3\" >92</th>\n",
       "                        <th id=\"T_c05393a4_5d15_11ea_a99e_faffc23f6a6clevel1_row3\" class=\"row_heading level1 row3\" >Final Critic</th>\n",
       "                        <td id=\"T_c05393a4_5d15_11ea_a99e_faffc23f6a6crow3_col0\" class=\"data row3 col0\" >8</td>\n",
       "                        <td id=\"T_c05393a4_5d15_11ea_a99e_faffc23f6a6crow3_col1\" class=\"data row3 col1\" >$4.88</td>\n",
       "                        <td id=\"T_c05393a4_5d15_11ea_a99e_faffc23f6a6crow3_col2\" class=\"data row3 col2\" >$39.04</td>\n",
       "            </tr>\n",
       "            <tr>\n",
       "                        <th id=\"T_c05393a4_5d15_11ea_a99e_faffc23f6a6clevel0_row4\" class=\"row_heading level0 row4\" >103</th>\n",
       "                        <th id=\"T_c05393a4_5d15_11ea_a99e_faffc23f6a6clevel1_row4\" class=\"row_heading level1 row4\" >Singed Scalpel</th>\n",
       "                        <td id=\"T_c05393a4_5d15_11ea_a99e_faffc23f6a6crow4_col0\" class=\"data row4 col0\" >8</td>\n",
       "                        <td id=\"T_c05393a4_5d15_11ea_a99e_faffc23f6a6crow4_col1\" class=\"data row4 col1\" >$4.35</td>\n",
       "                        <td id=\"T_c05393a4_5d15_11ea_a99e_faffc23f6a6crow4_col2\" class=\"data row4 col2\" >$34.80</td>\n",
       "            </tr>\n",
       "    </tbody></table>"
      ],
      "text/plain": [
       "<pandas.io.formats.style.Styler at 0x11816e190>"
      ]
     },
     "execution_count": 21,
     "metadata": {},
     "output_type": "execute_result"
    }
   ],
   "source": [
    "Best_Item = Popular_Item[\"Price\"].count()\n",
    "Purch_count = Popular_Item[\"Price\"].sum()\n",
    "Item_Price = Purch_count/Best_Item\n",
    "\n",
    "Popular_Item_df = pd.DataFrame({\"Purchase Count\": Best_Item,\n",
    "                              \"Item Price\": Item_Price,\n",
    "                              \"Total Purchase Value\": Purch_count})\n",
    "\n",
    "Popular_top = Popular_Item_df.sort_values([\"Total Purchase Value\"], ascending=False).head(5)\n",
    "\n",
    "Popular_top = Popular_top.style.format({\"Item Price\": \"${:.2f}\",\n",
    "                              \"Total Purchase Value\": \"${:.2f}\"})\n",
    "\n",
    "Popular_top"
   ]
  },
  {
   "cell_type": "code",
   "execution_count": null,
   "metadata": {},
   "outputs": [],
   "source": []
  }
 ],
 "metadata": {
  "kernelspec": {
   "display_name": "Python 3",
   "language": "python",
   "name": "python3"
  },
  "language_info": {
   "codemirror_mode": {
    "name": "ipython",
    "version": 3
   },
   "file_extension": ".py",
   "mimetype": "text/x-python",
   "name": "python",
   "nbconvert_exporter": "python",
   "pygments_lexer": "ipython3",
   "version": "3.7.4"
  }
 },
 "nbformat": 4,
 "nbformat_minor": 2
}
